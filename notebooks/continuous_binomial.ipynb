{
 "cells": [
  {
   "cell_type": "code",
   "execution_count": 13,
   "metadata": {},
   "outputs": [],
   "source": [
    "import matplotlib\n",
    "# no type 3 fonts\n",
    "matplotlib.rcParams['pdf.fonttype'] = 42"
   ]
  },
  {
   "cell_type": "code",
   "execution_count": 1,
   "metadata": {},
   "outputs": [],
   "source": [
    "from sympy import *\n",
    "import numpy as np\n",
    "\n",
    "s= symbols('s')\n",
    "l= symbols('l')\n",
    "y= symbols('y')"
   ]
  },
  {
   "cell_type": "code",
   "execution_count": 2,
   "metadata": {},
   "outputs": [
    {
     "data": {
      "text/latex": [
       "$\\displaystyle \\int\\limits_{-0.5}^{s + 0.5} \\frac{y^{l} \\left(1 - y\\right)^{- l + s} \\Gamma\\left(s + 1\\right)}{\\Gamma\\left(l + 1\\right) \\Gamma\\left(- l + s + 1\\right)}\\, dl$"
      ],
      "text/plain": [
       "Integral(y**l*(1 - y)**(-l + s)*gamma(s + 1)/(gamma(l + 1)*gamma(-l + s + 1)), (l, -0.5, s + 0.5))"
      ]
     },
     "execution_count": 2,
     "metadata": {},
     "output_type": "execute_result"
    }
   ],
   "source": [
    "integrand = y**l * (1-y)**(s-l) * gamma(s+1)/(gamma(1+s-l) * gamma(1+l))\n",
    "integ = Integral(integrand, (l,-1/2, s+1/2))\n",
    "#integ = Integral(integrand, (l,0, s))\n",
    "integ"
   ]
  },
  {
   "cell_type": "code",
   "execution_count": 3,
   "metadata": {},
   "outputs": [],
   "source": [
    "v_int = np.vectorize(lambda ss,yy: integ.subs(s,ss).subs(y,yy).evalf())"
   ]
  },
  {
   "cell_type": "code",
   "execution_count": 4,
   "metadata": {},
   "outputs": [],
   "source": [
    "# Make data.\n",
    "#S = np.arange(0., 31, .5)\n",
    "#Y = np.arange(0.01, 1., .01)\n",
    "S = np.arange(0., 100., 1.)\n",
    "Y = np.arange(0.01, 1., .01)\n",
    "S, Y = np.meshgrid(S, Y)\n",
    "\n",
    "Z = v_int(S,Y)"
   ]
  },
  {
   "cell_type": "code",
   "execution_count": 5,
   "metadata": {},
   "outputs": [],
   "source": [
    "import matplotlib\n",
    "import matplotlib.pyplot as plt\n",
    "import numpy as np\n",
    "\n",
    "from matplotlib import cm\n",
    "from matplotlib.ticker import LinearLocator\n",
    "\n",
    "fig, ax = plt.subplots(subplot_kw={\"projection\": \"3d\"})\n",
    "\n",
    "\n",
    "\n",
    "# Plot the surface.\n",
    "#surf = ax.plot_surface(S, Y, Z, cmap=cm.coolwarm,\n",
    "#                       linewidth=0, antialiased=False)\n",
    "\n",
    "ax.plot_wireframe(S, Y, Z, rstride=0, cstride=1)\n",
    "\n",
    "# Customize the z axis.\n",
    "ax.set_zlim(-1.01, 1.01)\n",
    "ax.zaxis.set_major_locator(LinearLocator(10))\n",
    "# A StrMethodFormatter is used automatically\n",
    "ax.zaxis.set_major_formatter('{x:.02f}')\n",
    "\n",
    "# Add a color bar which maps values to colors.\n",
    "#fig.colorbar(surf, shrink=0.5, aspect=5)\n",
    "\n",
    "ax.set_zlim(0., 1.5)\n",
    "\n",
    "plt.xlabel(\"$s$\")\n",
    "plt.ylabel(\"$y'$\")\n",
    "plt.savefig(\"continuous_binomial.pdf\", bbox_inches='tight')\n",
    "plt.close()\n"
   ]
  },
  {
   "cell_type": "code",
   "execution_count": 6,
   "metadata": {},
   "outputs": [
    {
     "data": {
      "text/latex": [
       "$\\displaystyle 0.99999952757292$"
      ],
      "text/plain": [
       "0.999999527572920"
      ]
     },
     "execution_count": 6,
     "metadata": {},
     "output_type": "execute_result"
    }
   ],
   "source": [
    "integ.subs(s,102.7).subs(y,.1).evalf()"
   ]
  },
  {
   "cell_type": "code",
   "execution_count": 7,
   "metadata": {},
   "outputs": [
    {
     "data": {
      "text/latex": [
       "$\\displaystyle \\int\\limits_{0}^{\\infty} \\lambda e^{- \\lambda s} \\int\\limits_{-0.5}^{s + 0.5} \\frac{y^{l} \\left(1 - y\\right)^{- l + s} \\Gamma\\left(s + 1\\right)}{\\Gamma\\left(l + 1\\right) \\Gamma\\left(- l + s + 1\\right)}\\, dl\\, ds$"
      ],
      "text/plain": [
       "Integral(lambda*exp(-lambda*s)*Integral(y**l*(1 - y)**(-l + s)*gamma(s + 1)/(gamma(l + 1)*gamma(-l + s + 1)), (l, -0.5, s + 0.5)), (s, 0, oo))"
      ]
     },
     "execution_count": 7,
     "metadata": {},
     "output_type": "execute_result"
    }
   ],
   "source": [
    "lambd= symbols('lambda')\n",
    "\n",
    "integ2 = Integral(lambd * exp(-lambd*s) * integ , (s,0,oo))\n",
    "integ2\n",
    "\n"
   ]
  },
  {
   "cell_type": "code",
   "execution_count": 8,
   "metadata": {},
   "outputs": [
    {
     "data": {
      "text/latex": [
       "$\\displaystyle \\int\\limits_{0}^{\\infty} 100 e^{- 100 s} \\int\\limits_{-0.5}^{s + 0.5} \\frac{0.1^{l} 0.9^{- l + s} \\Gamma\\left(s + 1\\right)}{\\Gamma\\left(l + 1\\right) \\Gamma\\left(- l + s + 1\\right)}\\, dl\\, ds$"
      ],
      "text/plain": [
       "Integral(100*exp(-100*s)*Integral(0.1**l*0.9**(-l + s)*gamma(s + 1)/(gamma(l + 1)*gamma(-l + s + 1)), (l, -0.5, s + 0.5)), (s, 0, oo))"
      ]
     },
     "execution_count": 8,
     "metadata": {},
     "output_type": "execute_result"
    }
   ],
   "source": [
    "integ2.subs(lambd,100).subs(y,.1).evalf()"
   ]
  },
  {
   "cell_type": "code",
   "execution_count": 14,
   "metadata": {},
   "outputs": [
    {
     "data": {
      "text/latex": [
       "$\\displaystyle \\int\\limits_{0}^{s} \\frac{y^{l} \\left(1 - y\\right)^{- l + s} \\Gamma\\left(s + 1\\right)}{\\Gamma\\left(l + 1\\right) \\Gamma\\left(- l + s + 1\\right)}\\, dl$"
      ],
      "text/plain": [
       "Integral(y**l*(1 - y)**(-l + s)*gamma(s + 1)/(gamma(l + 1)*gamma(-l + s + 1)), (l, 0, s))"
      ]
     },
     "execution_count": 14,
     "metadata": {},
     "output_type": "execute_result"
    }
   ],
   "source": [
    "##### VERSION MAS SIMPLE\n",
    "\n",
    "#integrand = y**l * (1-y)**(s-l) * gamma(s)/(gamma(s-l) * gamma(l))\n",
    "integrand = y**l * (1-y)**(s-l) * gamma(s+1)/(gamma(s-l+1) * gamma(l+1))\n",
    "\n",
    "#integ = Integral(integrand, (l,-1/2, s+1/2))\n",
    "integ = Integral(integrand, (l,0, s))\n",
    "integ"
   ]
  },
  {
   "cell_type": "code",
   "execution_count": 15,
   "metadata": {},
   "outputs": [],
   "source": [
    "v_int = np.vectorize(lambda ss,yy: integ.subs(s,ss).subs(y,yy).evalf())"
   ]
  },
  {
   "cell_type": "code",
   "execution_count": null,
   "metadata": {},
   "outputs": [],
   "source": [
    "# Make data.\n",
    "#S = np.arange(0., 31, .5)\n",
    "#Y = np.arange(0.01, 1., .01)\n",
    "S = np.arange(0., 200., 1.)\n",
    "Y = np.arange(0.01, 1., .01)\n",
    "S, Y = np.meshgrid(S, Y)\n",
    "\n",
    "Z = v_int(S,Y)"
   ]
  },
  {
   "cell_type": "code",
   "execution_count": 17,
   "metadata": {},
   "outputs": [
    {
     "name": "stderr",
     "output_type": "stream",
     "text": [
      "'created' timestamp seems very low; regarding as unix timestamp\n",
      "'modified' timestamp seems very low; regarding as unix timestamp\n"
     ]
    }
   ],
   "source": [
    "import matplotlib\n",
    "import matplotlib.pyplot as plt\n",
    "import numpy as np\n",
    "\n",
    "from matplotlib import cm\n",
    "from matplotlib.ticker import LinearLocator\n",
    "\n",
    "fig, ax = plt.subplots(subplot_kw={\"projection\": \"3d\"})\n",
    "\n",
    "\n",
    "\n",
    "# Plot the surface.\n",
    "#surf = ax.plot_surface(S, Y, Z, cmap=cm.coolwarm,\n",
    "#                       linewidth=0, antialiased=False)\n",
    "\n",
    "ax.plot_wireframe(S, Y, Z, rstride=0, cstride=1)\n",
    "\n",
    "# Customize the z axis.\n",
    "ax.set_zlim(-1.01, 1.01)\n",
    "ax.zaxis.set_major_locator(LinearLocator(10))\n",
    "# A StrMethodFormatter is used automatically\n",
    "ax.zaxis.set_major_formatter('{x:.02f}')\n",
    "\n",
    "# Add a color bar which maps values to colors.\n",
    "#fig.colorbar(surf, shrink=0.5, aspect=5)\n",
    "\n",
    "ax.set_zlim(0., 1.5)\n",
    "\n",
    "plt.xlabel(\"$s$\")\n",
    "plt.ylabel(\"$y'$\")\n",
    "plt.savefig(\"continuous_binomial_simplest0.pdf\", bbox_inches='tight')\n",
    "plt.close()"
   ]
  },
  {
   "cell_type": "code",
   "execution_count": null,
   "metadata": {},
   "outputs": [],
   "source": []
  }
 ],
 "metadata": {
  "kernelspec": {
   "display_name": "jax",
   "language": "python",
   "name": "python3"
  },
  "language_info": {
   "codemirror_mode": {
    "name": "ipython",
    "version": 3
   },
   "file_extension": ".py",
   "mimetype": "text/x-python",
   "name": "python",
   "nbconvert_exporter": "python",
   "pygments_lexer": "ipython3",
   "version": "3.10.14"
  }
 },
 "nbformat": 4,
 "nbformat_minor": 2
}
